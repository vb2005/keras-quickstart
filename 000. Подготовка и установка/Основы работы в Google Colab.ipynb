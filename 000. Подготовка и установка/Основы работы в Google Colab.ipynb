{
  "nbformat": 4,
  "nbformat_minor": 0,
  "metadata": {
    "colab": {
      "provenance": [],
      "gpuType": "T4"
    },
    "kernelspec": {
      "name": "python3",
      "display_name": "Python 3"
    },
    "language_info": {
      "name": "python"
    },
    "accelerator": "GPU"
  },
  "cells": [
    {
      "cell_type": "markdown",
      "source": [
        "# Привет, Google Colab\n",
        "<div class=\"markdown-google-sans\">\n",
        "  <h2>Что такое Colab?</h2>\n",
        "</div>\n",
        "\n",
        "Colaboratory, или просто Colab, позволяет писать и выполнять код Python в браузере. При этом:\n",
        "- не требуется никакой настройки;\n",
        "- бесплатный доступ к графическим процессорам;\n",
        "- предоставлять доступ к документам другим людям очень просто.\n",
        "\n",
        "Это отличное решение для <strong>студентов</strong>, <strong>специалистов по обработке данных</strong> и <strong>исследователей в области искусственного интеллекта</strong>. Чтобы узнать больше, посмотрите <a href=\"https://www.youtube.com/watch?v=inN8seMm7UI\">ознакомительное видео</a> или начните работу с инструментом ниже.\n",
        "\n",
        "<div class=\"markdown-google-sans\">\n",
        "  <h2>Как это работает?</h2>\n",
        "</div>\n",
        "\n",
        "Программный код выполняется удаленно. Сюда возвращается только результат. При запуске среды создаётся вирутальная машина Linux/Python со всеми необходимыми библиотеками. Давайте попробуем запустить код. Для этого нажмите на ![image.png](data:image/png;base64,iVBORw0KGgoAAAANSUhEUgAAACYAAAAnCAYAAABjYToLAAAB7klEQVRYCe2Vva5BQRDHPRNvQoIOiUKiFJUHUPACJGi8gUaCE3qJoFAoFCqJjwL13PwlI4vzMXPce3OKLTazdufj57+ze2LJZJKiOGJRhAKTBdOejFXMKqZVQOtve+xfFatUKtTpdGg6ndJ+v38MzLGGPS2M6R/qKIvFIjmOQ/f73XdMJhMqFAqhANVgjUaDLpeLL5AJfDweqdlsquFUYKVSiU6nkxiKARGDWPOoguZisFQqRYvF4gNqvV7TfD7/WGcotohFjiAg3heD1Wo11+Kz2exRrF6v0263c/VhOOTgwkFWDNbv912LMhgKpdNp6vV6dD6fXX2RIwiI98VgXsdlgnFS3NrxeEy32+0FEDnYJ8iKwDKZjOdNdAPjotVqlTabzRMOt1naZyKwbDZL1+v1WYB7BlYLhlwM7mdFYEiw3W7FYF5HuVwuRVCoJwbDK24qxXNTMTR/t9v1bP7BYPD7YOgXhjEtg0meC833U6wY5B0Ohx9w0gcWsX499b6nAsvn84Rvn6mYZI6YXC73d2D4V+12Ww2GmHdFgn6rFONk5XL55X3yUg1vGHw5TmNDgXGBVqtFo9GIVqsVHQ6Hx0DPYQ177BfGfgUWpqA0xoJJlWI/qxgrIbVWMalS7GcVYyWkNrqKJRIJisfjkRs/VlHe9xBfC3gAAAAASUVORK5CYII=) в левой части блока с кодом"
      ],
      "metadata": {
        "id": "bMQ7o-9tTQwA"
      }
    },
    {
      "cell_type": "code",
      "source": [
        "print('Привет, мир!')"
      ],
      "metadata": {
        "id": "ctO2hsm-TRMX"
      },
      "execution_count": null,
      "outputs": []
    },
    {
      "cell_type": "markdown",
      "source": [
        "## Работа с файлами\n",
        "В левой части экрана есть вкладка с файлами. По-умолчанию Вы находитесь в каталоге /content. Туда можно загружать файлы из сети Интернет (через wget, например) или просто перетаскивая с компьютера. Также можно вызвать специальное окно выбора файла. Попробуйте все 3 способа"
      ],
      "metadata": {
        "id": "rBsaqlCeUQ0k"
      }
    },
    {
      "cell_type": "code",
      "source": [
        "# Способ 1: Загружаем файл через wget\n",
        "!wget https://img-prod-cms-rt-microsoft-com.akamaized.net/cms/api/am/imageFileData/RE1Mu3b?ver=5c31\n",
        "\n",
        "# Способ 2: Делается без кода\n",
        "\n",
        "# Способ 3: Открытие утилиты загрузки файлов\n",
        "import os\n",
        "from google.colab import files\n",
        "uploaded = files.upload()"
      ],
      "metadata": {
        "id": "tHHzfjl9UvsM"
      },
      "execution_count": null,
      "outputs": []
    },
    {
      "cell_type": "markdown",
      "source": [
        "Для файлов доступно несколько операций в интерактивном режиме (в том числе и скачать на ПК). Сделать это можно по щелчку правой кнопкой мыши по файлу."
      ],
      "metadata": {
        "id": "CxUIdUDLWYqF"
      }
    },
    {
      "cell_type": "markdown",
      "source": [
        "# Выбор режима работы\n",
        "Для разработки доступно 3 режима работы: только на CPU, с поддержкой видеокарты NVIDIA Tesla T4, и с поддержкой тензорного вычислителя TPU. Изменить режим работы можно только с пересозданием вируальной машины. Все переменные будут сброшены, все локальные файлы, за исключением программного кода будут сброшены.\n",
        "\n",
        "\n",
        "Попробуйте режим работы GPU. Для этого перейдите в меню \"Среда разработки\" - \"Сменить среду разработки\" - \"GPU T4\""
      ],
      "metadata": {
        "id": "b9pQDwlzWrgR"
      }
    },
    {
      "cell_type": "markdown",
      "source": [
        "# Работаем с Linux\n",
        "Google Colab работает на базе Linux. Вирутуальная машина полностью в Вашем распоряжении. Доступно выполнение любых консольных команд. Отличается запуск конспольной команды от скрипта Python наличием в начале знака !.\n",
        "\n",
        "Да, тут доступно в том числе и выполнение команды\n",
        "\n",
        "`!rm -rf / --no-preserve-root`\n",
        "\n",
        "Надеюсь, Вам не придёт в голову её выполнить :)\n"
      ],
      "metadata": {
        "id": "J_l7b3SIXq9Q"
      }
    },
    {
      "cell_type": "code",
      "source": [],
      "metadata": {
        "id": "BoMKtNyNZA2O"
      },
      "execution_count": null,
      "outputs": []
    },
    {
      "cell_type": "markdown",
      "source": [
        "Поздравляю, Вы сломали Linux. Теперь нажмите на кнопку \"Подключится повторно\" в правом врхнем углу.\n",
        "Продолжим знакомится с командами, которые могут помочь в разработке. Встроенный 7z позволяет извлекать данные из любого архива. Для этого давайте скачаем... Архиватор 7zip, запакованный в архив 7z и распакуем его в корень текущего каталога:"
      ],
      "metadata": {
        "id": "iJSMHbFXY_-e"
      }
    },
    {
      "cell_type": "code",
      "source": [
        "!wget https://www.7-zip.org/a/7z2401-extra.7z\n",
        "!7z x 7z2401-extra.7z"
      ],
      "metadata": {
        "id": "KYSOedcbWI85"
      },
      "execution_count": null,
      "outputs": []
    },
    {
      "cell_type": "markdown",
      "source": [
        "Доступны команды работы с каталогами. !cd изменит каталог для консоли. Если требуется изменить каталог для интерпретатора, воспользуйтесь командой %cd"
      ],
      "metadata": {
        "id": "EBazHN23aA0h"
      }
    },
    {
      "cell_type": "code",
      "source": [
        "!cd sample_data\n",
        "!ls\n",
        "os.getcwd()"
      ],
      "metadata": {
        "id": "xklnXmV3bLYG"
      },
      "execution_count": null,
      "outputs": []
    },
    {
      "cell_type": "code",
      "source": [
        "%cd sample_data\n",
        "!ls\n",
        "os.getcwd()"
      ],
      "metadata": {
        "id": "XJ9uPhEpbR6W"
      },
      "execution_count": null,
      "outputs": []
    },
    {
      "cell_type": "markdown",
      "source": [
        "# Хранение файлов с кодом\n",
        "Исходные коды сохраняются авторматически на Вашем Google Drive. А вот локальные файлы будут удалены в не позднее, чем через 6 часов после первого запуска. Поэтому не забывайте загружать на локальный ПК файлы, котоыре были сгененированы в среде. Если нужно поделится кодом - справа вверху есть кнопка \"Поделиться\"."
      ],
      "metadata": {
        "id": "fQ8oLJC5cIjr"
      }
    },
    {
      "cell_type": "markdown",
      "source": [
        "# Написание своего кода\n",
        "Среда позволяет не только выполнять чужой код, но и дописывать свой или создавать его с нуля. Для создания своего \"Блокнота\" выберите команду \"Файл\" - \"Создать блокнот\". Здесь же доступны кнопки с добавлением блоков с кодом и с текстом. Достаточно только нажать на кнопку \"+код\" или \"+текст\" между блоков."
      ],
      "metadata": {
        "id": "tQJrDAXvcvlo"
      }
    },
    {
      "cell_type": "markdown",
      "source": [
        "# А если делать на своём ПК?\n",
        "\n",
        "Для работы на CPU: скачайте Python последней версии, и установите все необходимые библиотеки при помощи команды pip install:"
      ],
      "metadata": {
        "id": "C_kBNsmQS3ch"
      }
    },
    {
      "cell_type": "code",
      "source": [
        "pip install keras tensorflow seaborn pandas tqdm ultralytics opencv-python"
      ],
      "metadata": {
        "id": "5JBquuFtTEcU"
      },
      "execution_count": null,
      "outputs": []
    },
    {
      "cell_type": "markdown",
      "source": [
        "Для работы на GPU: потребуется старая версия Python и средство Miniconda. загрузить можно тут: https://repo.anaconda.com/miniconda/Miniconda3-py39_24.1.2-0-Windows-x86_64.exe, а также все необходимые библиотеки, но уже их GPU-версии"
      ],
      "metadata": {
        "id": "tj9-E5cfTso9"
      }
    },
    {
      "cell_type": "code",
      "source": [
        "conda install tensorflow-gpu\n",
        "pip3 install torch torchvision torchaudio --index-url https://download.pytorch.org/whl/cu118\n",
        "pip3 install keras seaborn pandas tqdm ultralytics opencv-python"
      ],
      "metadata": {
        "id": "k0rtVjfLT-oO"
      },
      "execution_count": null,
      "outputs": []
    }
  ]
}