{
  "nbformat": 4,
  "nbformat_minor": 0,
  "metadata": {
    "colab": {
      "provenance": [],
      "gpuType": "T4"
    },
    "kernelspec": {
      "name": "python3",
      "display_name": "Python 3"
    },
    "language_info": {
      "name": "python"
    },
    "accelerator": "GPU"
  },
  "cells": [
    {
      "cell_type": "code",
      "execution_count": null,
      "metadata": {
        "id": "r8OvPZzU48sJ"
      },
      "outputs": [],
      "source": [
        "# Блок 1. Загрузка набора данных и извлечение изображений из архива\n",
        "# Для обучения сети Вы можете использовать собственные наборы данных.\n",
        "# Подготовьте по 300-500 изображений на каждый класс, поместите их в zip-архив\n",
        "# Загрузите архив в Google Colab и не забудьте поменять пути и количество классов (в блоке 3)\n",
        "!wget https://cdn.freecodecamp.org/project-data/cats-and-dogs/cats_and_dogs.zip\n",
        "!7z x cats_and_dogs.zip"
      ]
    },
    {
      "cell_type": "code",
      "source": [
        "# Блок 2. Импорт необходимых библиотек\n",
        "# Если планируете запуск на домашнем компьютере, не забудьте к Python 3.8 и новее\n",
        "# поставить библиотеки командой pip install opencv-python, keras, tensorflow, scikit-learn\n",
        "import cv2, sklearn, os, keras\n",
        "import numpy as np\n",
        "import tensorflow as tf\n",
        "from keras.optimizers import *\n",
        "from keras.models import Model, Sequential\n",
        "from keras.layers import *\n",
        "from keras.utils import *"
      ],
      "metadata": {
        "id": "B6uTflZS5GBS"
      },
      "execution_count": null,
      "outputs": []
    },
    {
      "cell_type": "code",
      "source": [
        "# Блок 3. Объявление констант\n",
        "\n",
        "# Размер входного изображения\n",
        "size = 256\n",
        "\n",
        "# Папка с обучающей выборкой\n",
        "train_dir = \"/content/cats_and_dogs/train\"\n",
        "\n",
        "# Цвет изображения\n",
        "CLR = cv2.IMREAD_COLOR\n",
        "\n",
        "# Количество классов\n",
        "classes = 2"
      ],
      "metadata": {
        "id": "ZWBtSYViG923"
      },
      "execution_count": null,
      "outputs": []
    },
    {
      "cell_type": "code",
      "source": [
        "# Блок 4. Функция загрузки изображений\n",
        "# Все изображения из каталога загружаются в RAM в виде массивов X и Y\n",
        "# Массив X представляет собой изображения [img_count, size, size, 3]\n",
        "# Массив Y - индексы классов [img_count]\n",
        "def create_train_data(train_dir, size, color_mode):\n",
        "  # Массивы X и Y\n",
        "  X = []\n",
        "  Y = []\n",
        "\n",
        "  #Индекс класса\n",
        "  pp = 0\n",
        "\n",
        "  # По всем классам(папкам), и по всем файлам в них\n",
        "  for p1 in sorted(os.listdir(train_dir)):\n",
        "    if not p1.startswith('.'):\n",
        "      for img in os.listdir(os.path.join(train_dir, p1)):\n",
        "            # Формируем путь к файлу\n",
        "            path = os.path.join(os.path.join(train_dir, p1), img)\n",
        "            # Изменяем размер изображения и цветовое пространство\n",
        "            img = cv2.resize(cv2.imread(path, color_mode), (size, size))\n",
        "            # Добавляем картинку в обучающую выборку\n",
        "            X.append(list(np.array(img)))\n",
        "            # А также её индекс\n",
        "            Y.append([pp])\n",
        "      print(pp,p1)\n",
        "      pp=pp+1\n",
        "\n",
        "  # Формируем и выгружаем массивы\n",
        "  Y = np.array(Y)\n",
        "  X = np.array(X)\n",
        "  X, Y = sklearn.utils.shuffle(X, Y)\n",
        "  return (X,Y)"
      ],
      "metadata": {
        "id": "4L0hdGr0HHnj"
      },
      "execution_count": null,
      "outputs": []
    },
    {
      "cell_type": "code",
      "source": [
        "# Блок 5. Загрузка данных и преобразование выходов\n",
        "# Для классификационной сети требуется преобразование из формата\n",
        "# [3] => [0, 0, 0, 1, 0], [0] => [1, 0, 0, 0, 0]\n",
        "# Это преобразование one-hot Encoding\n",
        "# ПОдробнее тут: https://habr.com/ru/companies/karuna/articles/769366/\n",
        "(X, Y) = create_train_data(train_dir, size, CLR)\n",
        "Y_en = tf.keras.utils.to_categorical(Y, num_classes=classes, dtype='float32')"
      ],
      "metadata": {
        "id": "X4Tf4Byx6ogm"
      },
      "execution_count": null,
      "outputs": []
    },
    {
      "cell_type": "code",
      "source": [
        "# Блок 6. Построение модели сети.\n",
        "# Это моя базовая модель классификации. Она быстро обучается и работает,\n",
        "# при этом демонстрируя высокую точность, работает на слоях 6 типов:\n",
        "# Conv2D, Activation, MaxPooling, Dense, Flatten, Dropout\n",
        "# О том, как все это устроено можно найти тут: https://keras.io/api/layers/\n",
        "def build_model(size, classes):\n",
        "    model = Sequential()\n",
        "\n",
        "    model.add(Conv2D(32, (3, 3), padding=\"same\", input_shape=(size, size, 3)))\n",
        "    model.add(Conv2D(32, (3, 3), padding=\"same\"))\n",
        "    model.add(Activation(\"elu\"))\n",
        "    model.add(MaxPooling2D(pool_size=(4, 4)))\n",
        "    model.add(Dropout(0.15))\n",
        "\n",
        "    model.add(Conv2D(32, (3, 3), padding=\"same\"))\n",
        "    model.add(Activation(\"elu\"))\n",
        "    model.add(MaxPooling2D(pool_size=(2, 2)))\n",
        "    model.add(Dropout(0.15))\n",
        "\n",
        "    model.add(Conv2D(64, (3, 3), padding=\"same\"))\n",
        "    model.add(Activation(\"elu\"))\n",
        "    model.add(MaxPooling2D(pool_size=(2, 2)))\n",
        "    model.add(Dropout(0.15))\n",
        "\n",
        "    model.add(Conv2D(128, (3, 3), padding=\"same\"))\n",
        "    model.add(Activation(\"elu\"))\n",
        "    model.add(MaxPooling2D(pool_size=(2, 2)))\n",
        "    model.add(Dropout(0.15))\n",
        "\n",
        "    model.add(Conv2D(256, (3, 3), padding=\"same\"))\n",
        "    model.add(Activation(\"elu\"))\n",
        "    model.add(MaxPooling2D(pool_size=(2, 2)))\n",
        "    model.add(Dropout(0.15))\n",
        "\n",
        "    model.add(Conv2D(256, (3, 3), padding=\"same\"))\n",
        "    model.add(Activation(\"elu\"))\n",
        "    model.add(MaxPooling2D(pool_size=(4, 4)))\n",
        "    model.add(Dropout(0.25))\n",
        "\n",
        "    model.add(Flatten())\n",
        "    model.add(Dense(1024))\n",
        "    model.add(Activation(\"elu\"))\n",
        "\n",
        "    model.add(Dense(classes))\n",
        "    model.add(Activation(\"softmax\"))\n",
        "\n",
        "    return model"
      ],
      "metadata": {
        "id": "OFCtBFIj6w25"
      },
      "execution_count": null,
      "outputs": []
    },
    {
      "cell_type": "code",
      "source": [
        "# Блок 7. Строим модель и запускаем обучение\n",
        "# Метод Summary выводит архитектуру модели\n",
        "# Метод Compile собирает граф сети, добавляя в него необходимые служебные слои для работы оптимизатора\n",
        "# Для оценки качества работы сеть будет полагаться на функцию bce. Для задач классификации это наилучший вариант\n",
        "# Метод Fit запускает обучение. Сеть 200 раз прогонит через себя входные данные (X, Y_en) пакетами по 32.\n",
        "# 20% От выборки не будет участвовать в обучении. Это валидация. На ней будем проверять качество работы\n",
        "model = build_model(size, classes)\n",
        "model.summary()\n",
        "model.compile(optimizer=Adam(), loss='binary_crossentropy', metrics=['accuracy', 'mse', 'mae'])\n",
        "history = model.fit(X,Y_en,epochs=200, batch_size=32, validation_split=0.2)"
      ],
      "metadata": {
        "id": "otNuv-St3Ixd"
      },
      "execution_count": null,
      "outputs": []
    },
    {
      "cell_type": "code",
      "source": [
        "# Блок 8. Получение метрик сети в виде графика\n",
        "# Выводится график для функции потерь (loss = 'bce')\n",
        "# Тут чем меньше - тем лучше.\n",
        "# Но если функция начинает расти для графика val_loss, значит пошло переобучение.\n",
        "# Определите на какой эпохе это началось и в следующий раз запускайте обучение до этой эпохи\n",
        "from matplotlib import pyplot as plt\n",
        "plt.plot(history.history['loss'])\n",
        "plt.plot(history.history['val_loss'])\n",
        "plt.title('Функция потерь')\n",
        "plt.ylabel('Потери (меньше - лучше)')\n",
        "plt.xlabel('Число эпох')\n",
        "plt.legend(['Обучающая', 'Тестовая'], loc='upper left')\n",
        "plt.yscale('log')\n",
        "plt.show()"
      ],
      "metadata": {
        "id": "ko5HGvz7HwX1"
      },
      "execution_count": null,
      "outputs": []
    },
    {
      "cell_type": "code",
      "source": [
        "# Блок 9. Тестирование сети\n",
        "\n",
        "# Загружаем файл на облако\n",
        "from google.colab import files\n",
        "uploaded = files.upload()\n",
        "\n",
        "# Больше не печатать в экспоненциальном виде\n",
        "np.set_printoptions(suppress=True)\n",
        "\n",
        "# Тестирование\n",
        "for fn in uploaded.keys():\n",
        "  test = cv2.resize(cv2.imread(fn, CLR), (size, size))\n",
        "  test = tf.expand_dims(test, axis=0)\n",
        "  print(model.predict(test))"
      ],
      "metadata": {
        "id": "ixJpJULhH13K"
      },
      "execution_count": null,
      "outputs": []
    },
    {
      "cell_type": "code",
      "source": [
        "# Блок 10. Что дальше?\n",
        "# Можно попробовать обучить более сложные модели сетей (тут подробное описание всего встроенного зоопарка: https://keras.io/api/applications/)\n",
        "model = keras.applications.InceptionV3(\n",
        "    include_top=False,\n",
        "    weights=\"imagenet\",\n",
        "    input_shape=(size,size,3),\n",
        "    pooling=None\n",
        ")\n",
        "out = Flatten()(model.output)\n",
        "out = Dense(units=classes, activation='softmax')(out)\n",
        "model = Model(inputs=model.input, outputs=out, name='InceptionV3')\n",
        "#model.summary()\n",
        "model.compile(optimizer=Adam(), loss='binary_crossentropy', metrics=['accuracy', 'mse', 'mae'])\n",
        "history = model.fit(X,Y_en,epochs=200, batch_size=32, validation_split=0.2)"
      ],
      "metadata": {
        "id": "AZnZXBomH7iD"
      },
      "execution_count": null,
      "outputs": []
    },
    {
      "cell_type": "code",
      "source": [
        "# Блок 11. Экспорт модели сети\n",
        "# А можно попробовать сохранить сеть в формате TFLite. В таком формате она может быть запущена\n",
        "# на различных мобильных устройствах.\n",
        "import tensorflow as tf\n",
        "from keras.models import model_from_json\n",
        "keras.backend.clear_session()\n",
        "\n",
        "# Сохраняем веса модели в TensorFlow формате\n",
        "model.save('model_full.h5')\n",
        "model = tf.keras.models.load_model('model_full.h5', compile=False)\n",
        "\n",
        "# Конвертируем модель в TFLIte\n",
        "converter = tf.lite.TFLiteConverter.from_keras_model(model)\n",
        "tflite_model = converter.convert()\n",
        "\n",
        "# Сохраняем граф модели в файл\n",
        "with tf.io.gfile.GFile('model.tflite', 'wb') as f:\n",
        "  f.write(tflite_model)"
      ],
      "metadata": {
        "id": "A1p9AMyT8W2f"
      },
      "execution_count": null,
      "outputs": []
    }
  ]
}