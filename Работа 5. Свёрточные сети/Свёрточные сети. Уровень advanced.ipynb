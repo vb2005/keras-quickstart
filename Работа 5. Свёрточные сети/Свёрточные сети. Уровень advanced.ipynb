{
  "nbformat": 4,
  "nbformat_minor": 0,
  "metadata": {
    "colab": {
      "provenance": [],
      "gpuType": "T4"
    },
    "kernelspec": {
      "name": "python3",
      "display_name": "Python 3"
    },
    "language_info": {
      "name": "python"
    },
    "accelerator": "GPU"
  },
  "cells": [
    {
      "cell_type": "markdown",
      "source": [
        "#Лабораторная работа №5\n",
        "В данной работе рассматривается задача классификации изображений. Для сокращения размерности признаков, работа с изображениями осуществляется при помощи окон свёртки. Каскад свёрточных блоков в сочетании с прореживаем дает на выходе одномерное пространство признаков (Обычно, небольшой размерности). Далее, с этим пространством можно работать как с простым перцептроном, как в предыдущей работе\n"
      ],
      "metadata": {
        "id": "Vj5HfrS6UrOU"
      }
    },
    {
      "cell_type": "markdown",
      "source": [
        "## Содержание работы\n",
        "1. Требования к среде\n",
        "2. Подготовка данных\n",
        "3. Построение модели\n",
        "4. Обучение и тестирование\n",
        "5. Анализ результатов\n",
        "6. Обучение на сущесвующих архитектурах"
      ],
      "metadata": {
        "id": "hsenChp7X20p"
      }
    },
    {
      "cell_type": "markdown",
      "source": [
        "## Требования к среде\n",
        "\n",
        "Для работы потребуется Python версии 3.8 и выше\n",
        "Keras и Tensorflow\n",
        "\n",
        "`pip install tensoflow, keras, opencv-python, sklearn, tqdm`\n"
      ],
      "metadata": {
        "id": "pcGYk2Z0YMWQ"
      }
    },
    {
      "cell_type": "markdown",
      "source": [
        "## Подготовка данных\n",
        "Для эксперимента мы будем использовать классический набор данных cats/dogs. Скачать архив можно по ссылке: https://www.kaggle.com/c/dogs-vs-cats/code\n",
        "\n",
        "В среде Google Colab у нас имеется возможность доступа к наборам данных через API. Для этого [сгенерируйте](https://www.kaggle.com/settings) (или возьмите у преподавателя) файл kaggle.json и положите его в каталог /root/.kaggle/\n",
        "\n",
        "Теперь датасет можно загрузить всего одной строкой. Еще 3 строки потребуются, чтобы его извечь из архива\n"
      ],
      "metadata": {
        "id": "sEOWk2_jjZpI"
      }
    },
    {
      "cell_type": "code",
      "execution_count": null,
      "metadata": {
        "id": "5X80vqOsTq18"
      },
      "outputs": [],
      "source": [
        "!kaggle competitions download -c dogs-vs-cats\n",
        "!7z x dogs-vs-cats.zip\n",
        "!7z x train.zip\n",
        "!7z x test1.zip"
      ]
    },
    {
      "cell_type": "markdown",
      "source": [
        "Теперь поговорим о чтении данных. Сформируем 2 массива: входные и выходные данные"
      ],
      "metadata": {
        "id": "tJF7oFWukgVU"
      }
    },
    {
      "cell_type": "code",
      "source": [
        "import os, tqdm, cv2, sklearn\n",
        "import numpy as np\n",
        "\n",
        "# Массивы данных\n",
        "X = []\n",
        "Y = []\n",
        "\n",
        "# Размер изображения на входе\n",
        "size = 96\n",
        "\n",
        "# Количество классов\n",
        "classes = 2\n",
        "\n",
        "# Режим цвета\n",
        "color_mode = cv2.IMREAD_COLOR #COLOR GRAYSCALE\n",
        "\n",
        "# Прочитаем все файлы из каталога\n",
        "cats_files = [f for f in os.listdir('/content/train') if f.endswith(('.png', '.jpg', '.jpeg', '.gif')) and f.startswith(('cat')) ]\n",
        "dog_files = [f for f in os.listdir('/content/train') if f.endswith(('.png', '.jpg', '.jpeg', '.gif')) and f.startswith(('dog')) ]\n",
        "\n",
        "for file in tqdm.tqdm(cats_files):\n",
        "  img = cv2.resize(cv2.imread(os.path.join('/content/train', file), color_mode), (size, size))\n",
        "  X.append(list(np.array(img)))\n",
        "  Y.append([0])\n",
        "\n",
        "for file in tqdm.tqdm(dog_files):\n",
        "  img = cv2.resize(cv2.imread(os.path.join('/content/train', file), color_mode), (size, size))\n",
        "  X.append(list(np.array(img)))\n",
        "  Y.append([1])\n",
        "\n",
        "\n",
        "# Преобразуем данные к Numpy-массиву\n",
        "X = np.array(X)\n",
        "Y = np.array(Y)\n",
        "\n",
        "# и перемешаем\n",
        "X, Y = sklearn.utils.shuffle(X, Y)"
      ],
      "metadata": {
        "id": "sO_VLXDflyPK"
      },
      "execution_count": null,
      "outputs": []
    },
    {
      "cell_type": "code",
      "source": [
        "# Проверить данные можно при помощи\n",
        "X[60]\n",
        "#Y[60]"
      ],
      "metadata": {
        "id": "-3MhEfoxp0D1"
      },
      "execution_count": null,
      "outputs": []
    },
    {
      "cell_type": "code",
      "source": [
        "# Данный код поможет преобразовать массив с индексами классов в формат one-hot:\n",
        "# так как нейронная сеть должна возратить не номер класса, а вероятности, то превратим одномерный массив индексов классов в двумерный по следующей схеме:\n",
        "\n",
        "# [0] => [1, 0, ..., 0]\n",
        "# [1] => [0, 1, ..., 0]\n",
        "# ...\n",
        "# [n] => [0, 0, ..., 1]\n",
        "from keras.utils import to_categorical\n",
        "import tensorflow as tf\n",
        "Y_en = tf.keras.utils.to_categorical(Y, num_classes=2, dtype='float32')"
      ],
      "metadata": {
        "id": "UPq5mHBprbX0"
      },
      "execution_count": null,
      "outputs": []
    },
    {
      "cell_type": "markdown",
      "source": [
        "## Построение модели\n",
        "\n",
        "Я предлагаю исследовать разные виды моделей и снять основные их характеристики. Далее представлена архитектура свёрточной сети [96, 96, 3] в [1]. Её можно модифицировать для получения наилучших результатов."
      ],
      "metadata": {
        "id": "Ntpe8laIkUSG"
      }
    },
    {
      "cell_type": "code",
      "source": [
        "import keras\n",
        "from keras.optimizers import *\n",
        "from keras.models import Model, Sequential\n",
        "from keras.layers import *\n",
        "\n",
        "# Конфигурируем модель сети\n",
        "def build_model(size, classes):\n",
        "    # Модель последовательная...\n",
        "    model = Sequential()\n",
        "\n",
        "    # размером SIZE*SIZE*3. В первом блоке свёртка окном 3*3 разных окон 36 штук...\n",
        "    model.add(Conv2D(32, (3, 3), padding=\"same\", input_shape=(size, size, 3)))\n",
        "    # Активация ReLU\n",
        "    model.add(Activation(\"elu\"))\n",
        "    # Подвыборка квадратом 3*3 максимума из квадрата\n",
        "    model.add(MaxPooling2D(pool_size=(3, 3)))\n",
        "    model.add(Dropout(0.15))\n",
        "\n",
        "    # [32, size/3, size/3]\n",
        "    model.add(Conv2D(32, (3, 3), padding=\"same\"))\n",
        "    model.add(Activation(\"elu\"))\n",
        "    model.add(MaxPooling2D(pool_size=(2, 2)))\n",
        "    model.add(Dropout(0.15))\n",
        "\n",
        "    # [32, size/6, size/6]\n",
        "    model.add(Conv2D(64, (3, 3), padding=\"same\"))\n",
        "    model.add(Activation(\"elu\"))\n",
        "    model.add(MaxPooling2D(pool_size=(2, 2)))\n",
        "    model.add(Dropout(0.15))\n",
        "\n",
        "    # [64, size/12, size/12]\n",
        "    model.add(Conv2D(128, (3, 3), padding=\"same\"))\n",
        "    model.add(Activation(\"elu\"))\n",
        "    model.add(MaxPooling2D(pool_size=(2, 2)))\n",
        "    model.add(Dropout(0.15))\n",
        "\n",
        "    # [128, size/24, size/24]\n",
        "    model.add(Conv2D(256, (3, 3), padding=\"same\"))\n",
        "    model.add(Activation(\"elu\"))\n",
        "    model.add(MaxPooling2D(pool_size=(2, 2)))\n",
        "    model.add(Dropout(0.15))\n",
        "\n",
        "    # [64, size/48, size/48]\n",
        "    model.add(Conv2D(512, (3, 3), padding=\"same\"))\n",
        "    model.add(Activation(\"elu\"))\n",
        "    model.add(MaxPooling2D(pool_size=(2, 2)))\n",
        "    model.add(Dropout(0.25))\n",
        "\n",
        "    # [32, size/96, size/96]\n",
        "    model.add(Flatten())\n",
        "    model.add(Dense(1024))\n",
        "    model.add(Activation(\"elu\"))\n",
        "\n",
        "    # softmax classifier\n",
        "    model.add(Dense(classes))\n",
        "    model.add(Activation(\"softmax\")) # Если будет несколько классов, то softmax\n",
        "    #model.add(Activation(\"sigmoid\"))\n",
        "\n",
        "    # возвращаем модель\n",
        "    return model"
      ],
      "metadata": {
        "id": "xoA44pQCjF32"
      },
      "execution_count": null,
      "outputs": []
    },
    {
      "cell_type": "code",
      "source": [
        "# Модель можно взять уже готовую, а также сравнить её результаты с нашими.\n",
        "#model = tf.keras.applications.MobileNetV2(input_shape=(96,96,3), classes = 2, weights = None)\n",
        "model = tf.keras.applications.InceptionV3(input_shape=(256,256,3), classes = 2, weights = None)\n",
        "#model = build_model(size, classes)\n",
        "model.summary()"
      ],
      "metadata": {
        "id": "bVKvpw1NjMb8"
      },
      "execution_count": null,
      "outputs": []
    },
    {
      "cell_type": "code",
      "source": [
        "# Строим модель и запускаем обучение\n",
        "model = build_model(size, classes)\n",
        "model.compile(optimizer=Adam(), loss='binary_crossentropy', metrics=[ 'accuracy', 'mse', 'mae'])"
      ],
      "metadata": {
        "id": "pOuTHLv_sO0P"
      },
      "execution_count": null,
      "outputs": []
    },
    {
      "cell_type": "code",
      "source": [
        "history = model.fit(X,Y_en,epochs=40, batch_size=256, validation_split=0.2)"
      ],
      "metadata": {
        "id": "mQNHjw3TDyD4"
      },
      "execution_count": null,
      "outputs": []
    },
    {
      "cell_type": "code",
      "source": [
        "# Визуализация графика\n",
        "from matplotlib import pyplot as plt\n",
        "plt.plot(history.history['loss'])\n",
        "plt.plot(history.history['val_loss'])\n",
        "plt.title('Функция потерь')\n",
        "plt.ylabel('Потери (меньше - лучше)')\n",
        "plt.xlabel('Число эпох')\n",
        "plt.legend(['Обучающая', 'Тестовая'], loc='upper left')\n",
        "plt.show()"
      ],
      "metadata": {
        "id": "52mWnh2XwUMY"
      },
      "execution_count": null,
      "outputs": []
    },
    {
      "cell_type": "markdown",
      "source": [
        "В рамках группы проведите исследование параметров, влияющих на сходимость и переобучение. Для исследования возьмите следующие параметры:\n",
        "1. Вид активационной функции (linear, relu, elu, silu, leaky_relu, sigmoid)\n",
        "2. Величина Dropout (10%, 25%, 50%, 75%, 90%)\n",
        "3. Количество свёрток на разных слоях\n",
        "4. Разные виды оптимизаторов (Adam, SGD, RMSProp)\n",
        "5. Разный размер batch_size (1, 8, 32, 128)\n",
        "6. Разный размер входного изображения\n",
        "7. Разное число каналов (RGB, HSV, Grayscale)\n",
        "\n",
        "В качестве анализируемых величин выберем (после 10 эпох):\n",
        "1. На какой эпохе accuray стал выше 90% на train и на val\n",
        "2. Какое наименьшее значение loss фиксировалось на train и на val\n",
        "3. Время просчёта одного изображения\n",
        "\n",
        "На домашнее задание:\n",
        "4. Построить графики loss_train, loss_val для своих кейсов\n",
        "5. Определить на какой эпохе началось явное переобучение, и начиналось ли оно вовсе для выбранных кейсов"
      ],
      "metadata": {
        "id": "Mq6dOfyPtvoK"
      }
    },
    {
      "cell_type": "markdown",
      "source": [
        "## Тестирование сети"
      ],
      "metadata": {
        "id": "uUOBjJrlxA1Y"
      }
    },
    {
      "cell_type": "code",
      "source": [
        "path = '/content/185.jpg'\n",
        "img = cv2.resize(cv2.imread(path, color_mode), (size, size))\n",
        "img = np.array([img])\n",
        "pred = model.predict(img)#[list(np.array(img))])\n",
        "\n",
        "print(pred)"
      ],
      "metadata": {
        "id": "KqdFXoE3w_1m"
      },
      "execution_count": null,
      "outputs": []
    }
  ]
}